{
 "cells": [
  {
   "cell_type": "code",
   "execution_count": 2,
   "id": "bf87feab",
   "metadata": {},
   "outputs": [
    {
     "data": {
      "text/html": [
       "<div>\n",
       "<style scoped>\n",
       "    .dataframe tbody tr th:only-of-type {\n",
       "        vertical-align: middle;\n",
       "    }\n",
       "\n",
       "    .dataframe tbody tr th {\n",
       "        vertical-align: top;\n",
       "    }\n",
       "\n",
       "    .dataframe thead th {\n",
       "        text-align: right;\n",
       "    }\n",
       "</style>\n",
       "<table border=\"1\" class=\"dataframe\">\n",
       "  <thead>\n",
       "    <tr style=\"text-align: right;\">\n",
       "      <th></th>\n",
       "      <th>ride_id</th>\n",
       "      <th>fare_amount</th>\n",
       "      <th>pickup_datetime</th>\n",
       "      <th>pickup_longitude</th>\n",
       "      <th>pickup_latitude</th>\n",
       "      <th>dropoff_longitude</th>\n",
       "      <th>dropoff_latitude</th>\n",
       "      <th>passenger_count</th>\n",
       "    </tr>\n",
       "  </thead>\n",
       "  <tbody>\n",
       "    <tr>\n",
       "      <th>0</th>\n",
       "      <td>24238194</td>\n",
       "      <td>7.5</td>\n",
       "      <td>2015-05-07 19:52:06 UTC</td>\n",
       "      <td>-73.999817</td>\n",
       "      <td>40.738354</td>\n",
       "      <td>-73.999512</td>\n",
       "      <td>40.723217</td>\n",
       "      <td>1</td>\n",
       "    </tr>\n",
       "    <tr>\n",
       "      <th>1</th>\n",
       "      <td>27835199</td>\n",
       "      <td>7.7</td>\n",
       "      <td>2009-07-17 20:04:56 UTC</td>\n",
       "      <td>-73.994355</td>\n",
       "      <td>40.728225</td>\n",
       "      <td>-73.994710</td>\n",
       "      <td>40.750325</td>\n",
       "      <td>1</td>\n",
       "    </tr>\n",
       "    <tr>\n",
       "      <th>2</th>\n",
       "      <td>44984355</td>\n",
       "      <td>12.9</td>\n",
       "      <td>2009-08-24 21:45:00 UTC</td>\n",
       "      <td>-74.005043</td>\n",
       "      <td>40.740770</td>\n",
       "      <td>-73.962565</td>\n",
       "      <td>40.772647</td>\n",
       "      <td>1</td>\n",
       "    </tr>\n",
       "    <tr>\n",
       "      <th>3</th>\n",
       "      <td>25894730</td>\n",
       "      <td>5.3</td>\n",
       "      <td>2009-06-26 08:22:21 UTC</td>\n",
       "      <td>-73.976124</td>\n",
       "      <td>40.790844</td>\n",
       "      <td>-73.965316</td>\n",
       "      <td>40.803349</td>\n",
       "      <td>3</td>\n",
       "    </tr>\n",
       "    <tr>\n",
       "      <th>4</th>\n",
       "      <td>17610152</td>\n",
       "      <td>16.0</td>\n",
       "      <td>2014-08-28 17:47:00 UTC</td>\n",
       "      <td>-73.925023</td>\n",
       "      <td>40.744085</td>\n",
       "      <td>-73.973082</td>\n",
       "      <td>40.761247</td>\n",
       "      <td>5</td>\n",
       "    </tr>\n",
       "    <tr>\n",
       "      <th>...</th>\n",
       "      <td>...</td>\n",
       "      <td>...</td>\n",
       "      <td>...</td>\n",
       "      <td>...</td>\n",
       "      <td>...</td>\n",
       "      <td>...</td>\n",
       "      <td>...</td>\n",
       "      <td>...</td>\n",
       "    </tr>\n",
       "    <tr>\n",
       "      <th>199995</th>\n",
       "      <td>42598914</td>\n",
       "      <td>3.0</td>\n",
       "      <td>2012-10-28 10:49:00 UTC</td>\n",
       "      <td>-73.987042</td>\n",
       "      <td>40.739367</td>\n",
       "      <td>-73.986525</td>\n",
       "      <td>40.740297</td>\n",
       "      <td>1</td>\n",
       "    </tr>\n",
       "    <tr>\n",
       "      <th>199996</th>\n",
       "      <td>16382965</td>\n",
       "      <td>7.5</td>\n",
       "      <td>2014-03-14 01:09:00 UTC</td>\n",
       "      <td>-73.984722</td>\n",
       "      <td>40.736837</td>\n",
       "      <td>-74.006672</td>\n",
       "      <td>40.739620</td>\n",
       "      <td>1</td>\n",
       "    </tr>\n",
       "    <tr>\n",
       "      <th>199997</th>\n",
       "      <td>27804658</td>\n",
       "      <td>30.9</td>\n",
       "      <td>2009-06-29 00:42:00 UTC</td>\n",
       "      <td>-73.986017</td>\n",
       "      <td>40.756487</td>\n",
       "      <td>-73.858957</td>\n",
       "      <td>40.692588</td>\n",
       "      <td>2</td>\n",
       "    </tr>\n",
       "    <tr>\n",
       "      <th>199998</th>\n",
       "      <td>20259894</td>\n",
       "      <td>14.5</td>\n",
       "      <td>2015-05-20 14:56:25 UTC</td>\n",
       "      <td>-73.997124</td>\n",
       "      <td>40.725452</td>\n",
       "      <td>-73.983215</td>\n",
       "      <td>40.695416</td>\n",
       "      <td>1</td>\n",
       "    </tr>\n",
       "    <tr>\n",
       "      <th>199999</th>\n",
       "      <td>11951496</td>\n",
       "      <td>14.1</td>\n",
       "      <td>2010-05-15 04:08:00 UTC</td>\n",
       "      <td>-73.984395</td>\n",
       "      <td>40.720077</td>\n",
       "      <td>-73.985508</td>\n",
       "      <td>40.768793</td>\n",
       "      <td>1</td>\n",
       "    </tr>\n",
       "  </tbody>\n",
       "</table>\n",
       "<p>200000 rows × 8 columns</p>\n",
       "</div>"
      ],
      "text/plain": [
       "         ride_id  fare_amount          pickup_datetime  pickup_longitude  \\\n",
       "0       24238194          7.5  2015-05-07 19:52:06 UTC        -73.999817   \n",
       "1       27835199          7.7  2009-07-17 20:04:56 UTC        -73.994355   \n",
       "2       44984355         12.9  2009-08-24 21:45:00 UTC        -74.005043   \n",
       "3       25894730          5.3  2009-06-26 08:22:21 UTC        -73.976124   \n",
       "4       17610152         16.0  2014-08-28 17:47:00 UTC        -73.925023   \n",
       "...          ...          ...                      ...               ...   \n",
       "199995  42598914          3.0  2012-10-28 10:49:00 UTC        -73.987042   \n",
       "199996  16382965          7.5  2014-03-14 01:09:00 UTC        -73.984722   \n",
       "199997  27804658         30.9  2009-06-29 00:42:00 UTC        -73.986017   \n",
       "199998  20259894         14.5  2015-05-20 14:56:25 UTC        -73.997124   \n",
       "199999  11951496         14.1  2010-05-15 04:08:00 UTC        -73.984395   \n",
       "\n",
       "        pickup_latitude  dropoff_longitude  dropoff_latitude  passenger_count  \n",
       "0             40.738354         -73.999512         40.723217                1  \n",
       "1             40.728225         -73.994710         40.750325                1  \n",
       "2             40.740770         -73.962565         40.772647                1  \n",
       "3             40.790844         -73.965316         40.803349                3  \n",
       "4             40.744085         -73.973082         40.761247                5  \n",
       "...                 ...                ...               ...              ...  \n",
       "199995        40.739367         -73.986525         40.740297                1  \n",
       "199996        40.736837         -74.006672         40.739620                1  \n",
       "199997        40.756487         -73.858957         40.692588                2  \n",
       "199998        40.725452         -73.983215         40.695416                1  \n",
       "199999        40.720077         -73.985508         40.768793                1  \n",
       "\n",
       "[200000 rows x 8 columns]"
      ]
     },
     "execution_count": 2,
     "metadata": {},
     "output_type": "execute_result"
    }
   ],
   "source": [
    "import numpy as np \n",
    "import pandas as pd\n",
    "data = pd.read_csv(\"uber_rides_data.xlsx - sample_train.csv\")\n",
    "data"
   ]
  },
  {
   "cell_type": "code",
   "execution_count": 4,
   "id": "06c4822d",
   "metadata": {},
   "outputs": [
    {
     "name": "stdout",
     "output_type": "stream",
     "text": [
      "Number of integer columns: 2\n"
     ]
    }
   ],
   "source": [
    "integer_columns = data.select_dtypes(include='int64').columns\n",
    "number_of_integer_columns = len(integer_columns)\n",
    "\n",
    "print(\"Number of integer columns:\", number_of_integer_columns)"
   ]
  },
  {
   "cell_type": "code",
   "execution_count": 5,
   "id": "9bac815c",
   "metadata": {},
   "outputs": [
    {
     "name": "stdout",
     "output_type": "stream",
     "text": [
      "Number of missing values in 'dropoff_longitude' column: 1\n"
     ]
    }
   ],
   "source": [
    "missing_values = data['dropoff_longitude'].isna().sum()\n",
    "\n",
    "print(\"Number of missing values in 'dropoff_longitude' column:\", missing_values)"
   ]
  },
  {
   "cell_type": "code",
   "execution_count": 6,
   "id": "aaa65d47",
   "metadata": {},
   "outputs": [
    {
     "name": "stdout",
     "output_type": "stream",
     "text": [
      "Data type of 'pickup_datetime' feature: object\n"
     ]
    }
   ],
   "source": [
    "pickup_datetime_dtype = data['pickup_datetime'].dtype\n",
    "\n",
    "print(\"Data type of 'pickup_datetime' feature:\", pickup_datetime_dtype)"
   ]
  },
  {
   "cell_type": "code",
   "execution_count": 7,
   "id": "f5358610",
   "metadata": {},
   "outputs": [
    {
     "name": "stdout",
     "output_type": "stream",
     "text": [
      "Average Fare Amount: 11.359955250000002\n"
     ]
    }
   ],
   "source": [
    "data.dropna(subset=['fare_amount'], inplace=True)  \n",
    "average_fare = data['fare_amount'].mean()  \n",
    "\n",
    "print(\"Average Fare Amount:\", average_fare)"
   ]
  },
  {
   "cell_type": "code",
   "execution_count": 9,
   "id": "0af34047",
   "metadata": {},
   "outputs": [
    {
     "name": "stdout",
     "output_type": "stream",
     "text": [
      "Median Haversine Distance: 2.1209923961833708\n"
     ]
    }
   ],
   "source": [
    "import pandas as pd\n",
    "import numpy as np\n",
    "\n",
    "# Define a function to calculate Haversine distance\n",
    "def haversine(lat1, lon1, lat2, lon2):\n",
    "    \"\"\"\n",
    "    Calculate the Haversine distance between two points (latitude and longitude in degrees).\n",
    "    \"\"\"\n",
    "    # Convert latitude and longitude from degrees to radians\n",
    "    lat1, lon1, lat2, lon2 = map(np.radians, [lat1, lon1, lat2, lon2])\n",
    "\n",
    "    # Haversine formula\n",
    "    dlat = lat2 - lat1\n",
    "    dlon = lon2 - lon1\n",
    "    a = np.sin(dlat/2)**2 + np.cos(lat1) * np.cos(lat2) * np.sin(dlon/2)**2\n",
    "    c = 2 * np.arcsin(np.sqrt(a))\n",
    "    r = 6371  # Radius of the Earth in kilometers\n",
    "    return c * r\n",
    "\n",
    "# Assuming 'df' is your DataFrame with 'pickup_latitude', 'pickup_longitude', 'dropoff_latitude', and 'dropoff_longitude'\n",
    "data['haversine_distance'] = data.apply(lambda row: haversine(row['pickup_latitude'], row['pickup_longitude'], row['dropoff_latitude'], row['dropoff_longitude']), axis=1)\n",
    "\n",
    "# Calculate the median Haversine distance\n",
    "median_haversine_distance = data['haversine_distance'].median()\n",
    "\n",
    "print(\"Median Haversine Distance:\", median_haversine_distance)\n"
   ]
  },
  {
   "cell_type": "code",
   "execution_count": 11,
   "id": "a3a8faa6",
   "metadata": {},
   "outputs": [
    {
     "name": "stdout",
     "output_type": "stream",
     "text": [
      "Maximum Haversine Distance: 16409.239135313164\n"
     ]
    }
   ],
   "source": [
    "# Calculate the maximum Haversine distance\n",
    "max_haversine_distance = data['haversine_distance'].max()\n",
    "\n",
    "print(\"Maximum Haversine Distance:\", max_haversine_distance)\n"
   ]
  },
  {
   "cell_type": "code",
   "execution_count": 12,
   "id": "07696fa8",
   "metadata": {},
   "outputs": [
    {
     "name": "stdout",
     "output_type": "stream",
     "text": [
      "Number of rides with 0.0 Haversine distance: 5632\n"
     ]
    }
   ],
   "source": [
    "# Assuming you have already calculated the 'haversine_distance' column\n",
    "rides_with_zero_distance = (data['haversine_distance'] == 0.0).sum()\n",
    "\n",
    "print(\"Number of rides with 0.0 Haversine distance:\", rides_with_zero_distance)\n"
   ]
  },
  {
   "cell_type": "code",
   "execution_count": 14,
   "id": "a38fc0dd",
   "metadata": {},
   "outputs": [
    {
     "name": "stdout",
     "output_type": "stream",
     "text": [
      "Mean 'fare_amount' for rides with 0.0 Haversine distance: 11.585317826704546\n"
     ]
    }
   ],
   "source": [
    "# Assuming you have already calculated the 'haversine_distance' column\n",
    "fare_mean_for_zero_distance = data[data['haversine_distance'] == 0.0]['fare_amount'].mean()\n",
    "\n",
    "print(\"Mean 'fare_amount' for rides with 0.0 Haversine distance:\", fare_mean_for_zero_distance)\n"
   ]
  },
  {
   "cell_type": "code",
   "execution_count": 15,
   "id": "910ecf94",
   "metadata": {},
   "outputs": [
    {
     "name": "stdout",
     "output_type": "stream",
     "text": [
      "Maximum 'fare_amount' for a ride: 499.0\n"
     ]
    }
   ],
   "source": [
    "# Assuming 'df' is your DataFrame\n",
    "max_fare_amount = data['fare_amount'].max()\n",
    "\n",
    "print(\"Maximum 'fare_amount' for a ride:\", max_fare_amount)\n"
   ]
  },
  {
   "cell_type": "code",
   "execution_count": 17,
   "id": "d20de108",
   "metadata": {},
   "outputs": [
    {
     "name": "stdout",
     "output_type": "stream",
     "text": [
      "Haversine distance for the costliest ride: 0.0007899213191009994\n"
     ]
    }
   ],
   "source": [
    "# Assuming you have already calculated the 'haversine_distance' column and 'fare_amount' is available\n",
    "max_fare_row = data[data['fare_amount'] == data['fare_amount'].max()]\n",
    "haversine_distance_for_costliest_ride = max_fare_row['haversine_distance'].values[0]\n",
    "\n",
    "print(\"Haversine distance for the costliest ride:\", haversine_distance_for_costliest_ride)\n"
   ]
  },
  {
   "cell_type": "code",
   "execution_count": 19,
   "id": "b455c691",
   "metadata": {},
   "outputs": [
    {
     "name": "stdout",
     "output_type": "stream",
     "text": [
      "Number of rides recorded in the year 2014: 29968\n"
     ]
    }
   ],
   "source": [
    "# Assuming 'df' is your DataFrame\n",
    "data['pickup_datetime'] = pd.to_datetime(data['pickup_datetime'])  # Convert 'pickup_datetime' to datetime\n",
    "rides_in_2014 = (data['pickup_datetime'].dt.year == 2014).sum()  # Count rides in 2014\n",
    "\n",
    "print(\"Number of rides recorded in the year 2014:\", rides_in_2014)\n"
   ]
  },
  {
   "cell_type": "code",
   "execution_count": 20,
   "id": "a289c71a",
   "metadata": {},
   "outputs": [
    {
     "name": "stdout",
     "output_type": "stream",
     "text": [
      "Number of rides recorded in the first quarter of 2014: 7687\n"
     ]
    }
   ],
   "source": [
    "# Assuming 'df' is your DataFrame\n",
    "data['pickup_datetime'] = pd.to_datetime(data['pickup_datetime'])  # Convert 'pickup_datetime' to datetime\n",
    "rides_in_first_quarter_2014 = ((data['pickup_datetime'].dt.year == 2014) & (data['pickup_datetime'].dt.quarter == 1)).sum()  # Count rides in Q1 2014\n",
    "\n",
    "print(\"Number of rides recorded in the first quarter of 2014:\", rides_in_first_quarter_2014)\n"
   ]
  },
  {
   "cell_type": "code",
   "execution_count": 21,
   "id": "cb10b8ff",
   "metadata": {},
   "outputs": [
    {
     "name": "stdout",
     "output_type": "stream",
     "text": [
      "Day of the week in September 2010 with the maximum rides: Thursday\n"
     ]
    }
   ],
   "source": [
    "data['pickup_datetime'] = pd.to_datetime(data['pickup_datetime'])  # Convert 'pickup_datetime' to datetime\n",
    "rides_in_september_2010 = data[(data['pickup_datetime'].dt.year == 2010) & (data['pickup_datetime'].dt.month == 9)]\n",
    "\n",
    "# Count the rides for each day of the week and find the day with the maximum rides\n",
    "day_with_max_rides = rides_in_september_2010['pickup_datetime'].dt.day_name().value_counts().idxmax()\n",
    "\n",
    "print(\"Day of the week in September 2010 with the maximum rides:\", day_with_max_rides)\n"
   ]
  },
  {
   "cell_type": "code",
   "execution_count": null,
   "id": "821a285e",
   "metadata": {},
   "outputs": [],
   "source": []
  }
 ],
 "metadata": {
  "kernelspec": {
   "display_name": "Python 3 (ipykernel)",
   "language": "python",
   "name": "python3"
  },
  "language_info": {
   "codemirror_mode": {
    "name": "ipython",
    "version": 3
   },
   "file_extension": ".py",
   "mimetype": "text/x-python",
   "name": "python",
   "nbconvert_exporter": "python",
   "pygments_lexer": "ipython3",
   "version": "3.10.9"
  }
 },
 "nbformat": 4,
 "nbformat_minor": 5
}
